{
 "cells": [
  {
   "cell_type": "code",
   "execution_count": 1,
   "id": "67c0af05",
   "metadata": {},
   "outputs": [
    {
     "name": "stdout",
     "output_type": "stream",
     "text": [
      "hello\n",
      "1235\n"
     ]
    }
   ],
   "source": [
    "print(\"hello\")\n",
    "print(\"123\" + \"5\")"
   ]
  },
  {
   "cell_type": "code",
   "execution_count": 2,
   "id": "69ec81c2",
   "metadata": {},
   "outputs": [
    {
     "data": {
      "text/plain": [
       "float"
      ]
     },
     "execution_count": 2,
     "metadata": {},
     "output_type": "execute_result"
    }
   ],
   "source": [
    "a = 345.5\n",
    "type (a)"
   ]
  },
  {
   "cell_type": "code",
   "execution_count": 3,
   "id": "2a2004f2",
   "metadata": {},
   "outputs": [
    {
     "name": "stdout",
     "output_type": "stream",
     "text": [
      "toyin is 19 years\n"
     ]
    }
   ],
   "source": [
    "a = \"toyin\"\n",
    "b = 19\n",
    "###format string methods\n",
    "print(f\"{a} is {b} years\")"
   ]
  },
  {
   "cell_type": "code",
   "execution_count": 5,
   "id": "b3df666e",
   "metadata": {},
   "outputs": [
    {
     "name": "stdout",
     "output_type": "stream",
     "text": [
      "Bukunmi is 23 years\n"
     ]
    }
   ],
   "source": [
    "e = \"Bukunmi\"\n",
    "f = 23\n",
    "###format spring methods\n",
    "print(f\"{e} is {f} years\")      "
   ]
  },
  {
   "cell_type": "code",
   "execution_count": 6,
   "id": "41a4f4e7",
   "metadata": {},
   "outputs": [
    {
     "name": "stdout",
     "output_type": "stream",
     "text": [
      "enter name: john\n",
      "enter a number: 16\n",
      "john is 16 years old\n"
     ]
    }
   ],
   "source": [
    "x = input(\"enter name: \")\n",
    "y = input(\"enter a number: \")\n",
    "print(f\"{x} is {y} years old\")"
   ]
  },
  {
   "cell_type": "code",
   "execution_count": 7,
   "id": "e845c2b3",
   "metadata": {},
   "outputs": [
    {
     "name": "stdout",
     "output_type": "stream",
     "text": [
      "enter number1: 20\n",
      "enter number 2: 15\n",
      " the sum of a and b is 35.0\n"
     ]
    }
   ],
   "source": [
    "a = float(input(\"enter number1: \"))\n",
    "b = float(input(\"enter number 2: \"))\n",
    "print(f\" the sum of a and b is {a+b}\")"
   ]
  },
  {
   "cell_type": "code",
   "execution_count": 8,
   "id": "0983d71d",
   "metadata": {},
   "outputs": [
    {
     "name": "stdout",
     "output_type": "stream",
     "text": [
      "enter your name: shade\n",
      "enter your year of birth: 1997\n",
      "shade is 25 years old\n"
     ]
    }
   ],
   "source": [
    "name = input(\"enter your name: \")\n",
    "year_birth = int(input(\"enter your year of birth: \"))\n",
    "print(f\"{name} is {2022-year_birth} years old\")"
   ]
  },
  {
   "cell_type": "code",
   "execution_count": 11,
   "id": "f4dee579",
   "metadata": {},
   "outputs": [
    {
     "name": "stdout",
     "output_type": "stream",
     "text": [
      "enter message: Lemon\n",
      "buy\n"
     ]
    }
   ],
   "source": [
    "get_me = input ('enter message: ').lower()\n",
    "if get_me ==\"tomatoes\":\n",
    "    print(\"buy\")\n",
    "elif get_me ==\"lemon\" :\n",
    "    print(\"buy\")\n",
    "elif get_me ==\"tomatoes\":\n",
    "    print(\"buy\")\n",
    "else:\n",
    "    print(\"coundnt find any\")"
   ]
  },
  {
   "cell_type": "code",
   "execution_count": 12,
   "id": "cc974bde",
   "metadata": {},
   "outputs": [],
   "source": [
    "c = 5/9 * (f + 32)\n",
    "f = 9/5 * (c - 32)\n"
   ]
  },
  {
   "cell_type": "code",
   "execution_count": 14,
   "id": "fb7214ac",
   "metadata": {},
   "outputs": [
    {
     "name": "stdout",
     "output_type": "stream",
     "text": [
      "enter temperature input value: 22\n",
      "enter unit f/c: c\n",
      "the temperature value from 22.0c is -18.0fahrenheit\n"
     ]
    }
   ],
   "source": [
    "temp_value = float(input(\"enter temperature input value: \"))\n",
    "unit = input(\"enter unit f/c: \").lower()\n",
    "if unit == \"f\":\n",
    "    celcuis = round(5/9 * (temp_value + 32), 3)\n",
    "    prin(f\"the temperature value from {temp_value}{unit} is {celcuis}celcuis\")\n",
    "                         \n",
    "elif unit ==\"c\":\n",
    "     fahr = round(9/5 * (temp_value - 32), 3)\n",
    "     print(f\"the temperature value from {temp_value}{unit} is {fahr}fahrenheit\")\n",
    "                    \n",
    "else:\n",
    "     print(\"input not understood!!!\")"
   ]
  },
  {
   "cell_type": "code",
   "execution_count": 16,
   "id": "1f080435",
   "metadata": {},
   "outputs": [],
   "source": [
    "value = \"james\"\n",
    "#a.index(\"m\")"
   ]
  },
  {
   "cell_type": "code",
   "execution_count": 17,
   "id": "1613ead3",
   "metadata": {},
   "outputs": [
    {
     "name": "stdout",
     "output_type": "stream",
     "text": [
      "enter sub string values:h\n",
      "ia\n"
     ]
    }
   ],
   "source": [
    "value = \"cynthia\"\n",
    "sub_string = input('enter sub string values:')\n",
    "k = value.index(sub_string)\n",
    "right_values =value[k+1: ]\n",
    "print (right_values)"
   ]
  },
  {
   "cell_type": "code",
   "execution_count": 18,
   "id": "8aece40a",
   "metadata": {},
   "outputs": [
    {
     "data": {
      "text/plain": [
       "'ool'"
      ]
     },
     "execution_count": 18,
     "metadata": {},
     "output_type": "execute_result"
    }
   ],
   "source": [
    "a = \"cool\"\n",
    "a[1:]\n"
   ]
  },
  {
   "cell_type": "code",
   "execution_count": 19,
   "id": "5a5b2804",
   "metadata": {},
   "outputs": [
    {
     "name": "stdout",
     "output_type": "stream",
     "text": [
      "enter sub string values: h\n",
      "cynt\n"
     ]
    }
   ],
   "source": [
    "value = \"cynthia\"\n",
    "sub_string = input('enter sub string values: ')\n",
    "k = value.index(sub_string)\n",
    "left_values =value[:k]\n",
    "print (left_values)"
   ]
  },
  {
   "cell_type": "code",
   "execution_count": null,
   "id": "436394f8",
   "metadata": {},
   "outputs": [],
   "source": []
  }
 ],
 "metadata": {
  "kernelspec": {
   "display_name": "Python 3 (ipykernel)",
   "language": "python",
   "name": "python3"
  },
  "language_info": {
   "codemirror_mode": {
    "name": "ipython",
    "version": 3
   },
   "file_extension": ".py",
   "mimetype": "text/x-python",
   "name": "python",
   "nbconvert_exporter": "python",
   "pygments_lexer": "ipython3",
   "version": "3.9.7"
  }
 },
 "nbformat": 4,
 "nbformat_minor": 5
}
