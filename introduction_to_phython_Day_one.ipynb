{
 "cells": [
  {
   "cell_type": "code",
   "execution_count": 1,
   "id": "67c0af05",
   "metadata": {},
   "outputs": [
    {
     "name": "stdout",
     "output_type": "stream",
     "text": [
      "hello\n",
      "1235\n"
     ]
    }
   ],
   "source": [
    "print(\"hello\")\n",
    "print(\"123\" + \"5\")"
   ]
  },
  {
   "cell_type": "code",
   "execution_count": 2,
   "id": "69ec81c2",
   "metadata": {},
   "outputs": [
    {
     "data": {
      "text/plain": [
       "float"
      ]
     },
     "execution_count": 2,
     "metadata": {},
     "output_type": "execute_result"
    }
   ],
   "source": [
    "a = 345.5\n",
    "type (a)"
   ]
  },
  {
   "cell_type": "code",
   "execution_count": 3,
   "id": "2a2004f2",
   "metadata": {},
   "outputs": [
    {
     "name": "stdout",
     "output_type": "stream",
     "text": [
      "toyin is 19 years\n"
     ]
    }
   ],
   "source": [
    "a = \"toyin\"\n",
    "b = 19\n",
    "###format string methods\n",
    "print(f\"{a} is {b} years\")"
   ]
  },
  {
   "cell_type": "code",
   "execution_count": 5,
   "id": "b3df666e",
   "metadata": {},
   "outputs": [
    {
     "name": "stdout",
     "output_type": "stream",
     "text": [
      "Bukunmi is 23 years\n"
     ]
    }
   ],
   "source": [
    "e = \"Bukunmi\"\n",
    "f = 23\n",
    "###format spring methods\n",
    "print(f\"{e} is {f} years\")      "
   ]
  },
  {
   "cell_type": "code",
   "execution_count": 6,
   "id": "41a4f4e7",
   "metadata": {},
   "outputs": [
    {
     "name": "stdout",
     "output_type": "stream",
     "text": [
      "enter name: john\n",
      "enter a number: 16\n",
      "john is 16 years old\n"
     ]
    }
   ],
   "source": [
    "x = input(\"enter name: \")\n",
    "y = input(\"enter a number: \")\n",
    "print(f\"{x} is {y} years old\")"
   ]
  },
  {
   "cell_type": "code",
   "execution_count": 7,
   "id": "e845c2b3",
   "metadata": {},
   "outputs": [
    {
     "name": "stdout",
     "output_type": "stream",
     "text": [
      "enter number1: 20\n",
      "enter number 2: 15\n",
      " the sum of a and b is 35.0\n"
     ]
    }
   ],
   "source": [
    "a = float(input(\"enter number1: \"))\n",
    "b = float(input(\"enter number 2: \"))\n",
    "print(f\" the sum of a and b is {a+b}\")"
   ]
  },
  {
   "cell_type": "code",
   "execution_count": 8,
   "id": "0983d71d",
   "metadata": {},
   "outputs": [
    {
     "name": "stdout",
     "output_type": "stream",
     "text": [
      "enter your name: shade\n",
      "enter your year of birth: 1997\n",
      "shade is 25 years old\n"
     ]
    }
   ],
   "source": [
    "name = input(\"enter your name: \")\n",
    "year_birth = int(input(\"enter your year of birth: \"))\n",
    "print(f\"{name} is {2022-year_birth} years old\")"
   ]
  },
  {
   "cell_type": "code",
   "execution_count": 11,
   "id": "f4dee579",
   "metadata": {},
   "outputs": [
    {
     "name": "stdout",
     "output_type": "stream",
     "text": [
      "enter message: Lemon\n",
      "buy\n"
     ]
    }
   ],
   "source": [
    "get_me = input ('enter message: ').lower()\n",
    "if get_me ==\"tomatoes\":\n",
    "    print(\"buy\")\n",
    "elif get_me ==\"lemon\" :\n",
    "    print(\"buy\")\n",
    "elif get_me ==\"tomatoes\":\n",
    "    print(\"buy\")\n",
    "else:\n",
    "    print(\"coundnt find any\")"
   ]
  },
  {
   "cell_type": "code",
   "execution_count": 12,
   "id": "cc974bde",
   "metadata": {},
   "outputs": [],
   "source": [
    "c = 5/9 * (f + 32)\n",
    "f = 9/5 * (c - 32)\n"
   ]
  },
  {
   "cell_type": "code",
   "execution_count": 14,
   "id": "fb7214ac",
   "metadata": {},
   "outputs": [
    {
     "name": "stdout",
     "output_type": "stream",
     "text": [
      "enter temperature input value: 22\n",
      "enter unit f/c: c\n",
      "the temperature value from 22.0c is -18.0fahrenheit\n"
     ]
    }
   ],
   "source": [
    "temp_value = float(input(\"enter temperature input value: \"))\n",
    "unit = input(\"enter unit f/c: \").lower()\n",
    "if unit == \"f\":\n",
    "    celcuis = round(5/9 * (temp_value + 32), 3)\n",
    "    prin(f\"the temperature value from {temp_value}{unit} is {celcuis}celcuis\")\n",
    "                         \n",
    "elif unit ==\"c\":\n",
    "     fahr = round(9/5 * (temp_value - 32), 3)\n",
    "     print(f\"the temperature value from {temp_value}{unit} is {fahr}fahrenheit\")\n",
    "                    \n",
    "else:\n",
    "     print(\"input not understood!!!\")"
   ]
  },
  {
   "cell_type": "code",
   "execution_count": 16,
   "id": "1f080435",
   "metadata": {},
   "outputs": [],
   "source": [
    "value = \"james\"\n",
    "#a.index(\"m\")"
   ]
  },
  {
   "cell_type": "code",
   "execution_count": 17,
   "id": "1613ead3",
   "metadata": {},
   "outputs": [
    {
     "name": "stdout",
     "output_type": "stream",
     "text": [
      "enter sub string values:h\n",
      "ia\n"
     ]
    }
   ],
   "source": [
    "value = \"cynthia\"\n",
    "sub_string = input('enter sub string values:')\n",
    "k = value.index(sub_string)\n",
    "right_values =value[k+1: ]\n",
    "print (right_values)"
   ]
  },
  {
   "cell_type": "code",
   "execution_count": 18,
   "id": "8aece40a",
   "metadata": {},
   "outputs": [
    {
     "data": {
      "text/plain": [
       "'ool'"
      ]
     },
     "execution_count": 18,
     "metadata": {},
     "output_type": "execute_result"
    }
   ],
   "source": [
    "a = \"cool\"\n",
    "a[1:]\n"
   ]
  },
  {
   "cell_type": "code",
   "execution_count": 19,
   "id": "5a5b2804",
   "metadata": {},
   "outputs": [
    {
     "name": "stdout",
     "output_type": "stream",
     "text": [
      "enter sub string values: h\n",
      "cynt\n"
     ]
    }
   ],
   "source": [
    "value = \"cynthia\"\n",
    "sub_string = input('enter sub string values: ')\n",
    "k = value.index(sub_string)\n",
    "left_values =value[:k]\n",
    "print (left_values)"
   ]
  },
  {
   "cell_type": "code",
   "execution_count": 5,
   "id": "436394f8",
   "metadata": {},
   "outputs": [
    {
     "data": {
      "text/plain": [
       "6"
      ]
     },
     "execution_count": 5,
     "metadata": {},
     "output_type": "execute_result"
    }
   ],
   "source": [
    "### assignment\n",
    "\n",
    "n = \"tobechukwuigia\"\n",
    "n.index(\"u\")\n"
   ]
  },
  {
   "cell_type": "code",
   "execution_count": 6,
   "id": "7a96364c",
   "metadata": {},
   "outputs": [
    {
     "data": {
      "text/plain": [
       "9"
      ]
     },
     "execution_count": 6,
     "metadata": {},
     "output_type": "execute_result"
    }
   ],
   "source": [
    "n = \"tobechukwu\"\n",
    "n.index(\"u\", 7)"
   ]
  },
  {
   "cell_type": "code",
   "execution_count": 7,
   "id": "083a593c",
   "metadata": {},
   "outputs": [
    {
     "data": {
      "text/plain": [
       "'j'"
      ]
     },
     "execution_count": 7,
     "metadata": {},
     "output_type": "execute_result"
    }
   ],
   "source": [
    "#### Day 2\n",
    "\n",
    "h = \"jakeson/abiba\"\n",
    "h[0]"
   ]
  },
  {
   "cell_type": "code",
   "execution_count": 8,
   "id": "d30e3701",
   "metadata": {},
   "outputs": [
    {
     "data": {
      "text/plain": [
       "'tope adamu'"
      ]
     },
     "execution_count": 8,
     "metadata": {},
     "output_type": "execute_result"
    }
   ],
   "source": [
    "k = [\"tope adamu\", \"kate milla\", \"femi ore\"]\n",
    "k[0]"
   ]
  },
  {
   "cell_type": "code",
   "execution_count": 9,
   "id": "70990c13",
   "metadata": {},
   "outputs": [
    {
     "data": {
      "text/plain": [
       "['tope', 'adamu']"
      ]
     },
     "execution_count": 9,
     "metadata": {},
     "output_type": "execute_result"
    }
   ],
   "source": [
    "k[0].split()"
   ]
  },
  {
   "cell_type": "code",
   "execution_count": 10,
   "id": "53778fe1",
   "metadata": {},
   "outputs": [
    {
     "data": {
      "text/plain": [
       "['jakeson', 'abiba']"
      ]
     },
     "execution_count": 10,
     "metadata": {},
     "output_type": "execute_result"
    }
   ],
   "source": [
    "h.split(\"/\")"
   ]
  },
  {
   "cell_type": "code",
   "execution_count": 18,
   "id": "052ca303",
   "metadata": {},
   "outputs": [
    {
     "name": "stdout",
     "output_type": "stream",
     "text": [
      "+236#81#765#91915\n"
     ]
    }
   ],
   "source": [
    "phone_number = \"+236-81-765-91915\"\n",
    "b = phone_number.split(\"-\")\n",
    "d = \"#\".join(b)\n",
    "print(d)"
   ]
  },
  {
   "cell_type": "code",
   "execution_count": 22,
   "id": "71c50ff7",
   "metadata": {},
   "outputs": [],
   "source": [
    "###split method is a string,it helps to split two(2) strings together\n",
    "###join method is an array or list method  \n",
    "### you can use split method only for strings\n",
    "###split is a method that is inbuilt.\n",
    "###forloops os a way of getting values out of their rays.\n",
    "###iteration bringing out from a list (identifying) to bring values out.\n",
    "\n"
   ]
  },
  {
   "cell_type": "code",
   "execution_count": 23,
   "id": "a8ec265a",
   "metadata": {},
   "outputs": [
    {
     "name": "stdout",
     "output_type": "stream",
     "text": [
      "0\n",
      "1\n",
      "2\n",
      "3\n",
      "4\n",
      "5\n",
      "6\n",
      "7\n",
      "8\n",
      "9\n",
      "10\n"
     ]
    }
   ],
   "source": [
    "for i in range(0, 10+1):\n",
    "    print(i)"
   ]
  },
  {
   "cell_type": "code",
   "execution_count": 24,
   "id": "645603d6",
   "metadata": {},
   "outputs": [
    {
     "name": "stdout",
     "output_type": "stream",
     "text": [
      "10\n",
      "15\n",
      "21\n",
      "30\n",
      "6\n"
     ]
    }
   ],
   "source": [
    "a = [10 , 15, 21, 30, 6]\n",
    "for i in a:\n",
    "    print(i)"
   ]
  },
  {
   "cell_type": "code",
   "execution_count": 25,
   "id": "a6b35796",
   "metadata": {},
   "outputs": [
    {
     "data": {
      "text/plain": [
       "['tope adamu', 'kate milla', 'femi ore']"
      ]
     },
     "execution_count": 25,
     "metadata": {},
     "output_type": "execute_result"
    }
   ],
   "source": [
    "k"
   ]
  },
  {
   "cell_type": "code",
   "execution_count": 27,
   "id": "919e496a",
   "metadata": {},
   "outputs": [
    {
     "data": {
      "text/plain": [
       "['tope', 'adamu']"
      ]
     },
     "execution_count": 27,
     "metadata": {},
     "output_type": "execute_result"
    }
   ],
   "source": [
    "k[0].split()"
   ]
  },
  {
   "cell_type": "code",
   "execution_count": 28,
   "id": "8272dc96",
   "metadata": {},
   "outputs": [
    {
     "name": "stdout",
     "output_type": "stream",
     "text": [
      "tope adamu\n",
      "kate milla\n",
      "femi ore\n"
     ]
    }
   ],
   "source": [
    "for n in k:\n",
    "    print(n)"
   ]
  },
  {
   "cell_type": "code",
   "execution_count": 29,
   "id": "f6c5c370",
   "metadata": {},
   "outputs": [
    {
     "data": {
      "text/plain": [
       "list"
      ]
     },
     "execution_count": 29,
     "metadata": {},
     "output_type": "execute_result"
    }
   ],
   "source": [
    "type(k)"
   ]
  },
  {
   "cell_type": "code",
   "execution_count": 30,
   "id": "22ced91a",
   "metadata": {},
   "outputs": [
    {
     "name": "stdout",
     "output_type": "stream",
     "text": [
      "['Tope', 'Kate', 'Femi']\n",
      "['Adamu', 'Milla', 'Ore']\n"
     ]
    }
   ],
   "source": [
    "first_name = []\n",
    "second_name = []\n",
    "for n in k:\n",
    "    b = n.split()[0][0].upper() + n.split()[0][1:]\n",
    "    d = n.split()[1][0].upper() + n.split()[1][1:]\n",
    "    first_name.append(b)\n",
    "    second_name.append(d)\n",
    "print(first_name)\n",
    "print(second_name)"
   ]
  },
  {
   "cell_type": "code",
   "execution_count": 31,
   "id": "cbaedf32",
   "metadata": {},
   "outputs": [
    {
     "name": "stdout",
     "output_type": "stream",
     "text": [
      "[1, 5, 10, ['lem', 'fin', 'tan']]\n"
     ]
    }
   ],
   "source": [
    "t = [ \"lem\", \"fin\", \"tan\" ]\n",
    "array_list = [1, 5, 10]\n",
    "array_list.append(t)\n",
    "print(array_list)\n"
   ]
  },
  {
   "cell_type": "code",
   "execution_count": 32,
   "id": "90bf7940",
   "metadata": {},
   "outputs": [
    {
     "name": "stdout",
     "output_type": "stream",
     "text": [
      "[1, 5, 10, 'lem', 'fin', 'tan']\n"
     ]
    }
   ],
   "source": [
    "t = [\"lem\", \"fin\", \"tan\" ]\n",
    "array_list = [1, 5, 10]\n",
    "for i in t:\n",
    "    array_list.append(i)\n",
    "print(array_list)"
   ]
  },
  {
   "cell_type": "code",
   "execution_count": 33,
   "id": "69594a8d",
   "metadata": {},
   "outputs": [],
   "source": [
    "# for d in h:\n",
    "#print (d)"
   ]
  },
  {
   "cell_type": "code",
   "execution_count": 34,
   "id": "86ae9934",
   "metadata": {},
   "outputs": [
    {
     "name": "stdout",
     "output_type": "stream",
     "text": [
      "93\n"
     ]
    }
   ],
   "source": [
    "array_number = [10, 15, 21, 39, 8]\n",
    "add_me = 0\n",
    "\n",
    "for i in array_number:\n",
    "    add_me = i + add_me\n",
    "print(add_me)\n",
    "    "
   ]
  },
  {
   "cell_type": "code",
   "execution_count": 37,
   "id": "a5d4b417",
   "metadata": {},
   "outputs": [
    {
     "name": "stdout",
     "output_type": "stream",
     "text": [
      "<class 'bool'>\n"
     ]
    }
   ],
   "source": [
    "a = False\n",
    "print(type(a))"
   ]
  },
  {
   "cell_type": "code",
   "execution_count": 42,
   "id": "264c690c",
   "metadata": {},
   "outputs": [
    {
     "name": "stdout",
     "output_type": "stream",
     "text": [
      "meka\n",
      "owen\n"
     ]
    }
   ],
   "source": [
    "list_array = [True, False, \"meka\", \"owen\", 19.5, 88, 4.12, 22]\n",
    "for i in list_array:\n",
    "    if type(i) == str:\n",
    "        print(i)"
   ]
  },
  {
   "cell_type": "code",
   "execution_count": 43,
   "id": "9cb4a64c",
   "metadata": {},
   "outputs": [
    {
     "name": "stdout",
     "output_type": "stream",
     "text": [
      "88\n",
      "22\n"
     ]
    }
   ],
   "source": [
    "list_array =[True, False, \"meka\", \"owen\", 19.5, 88, 4.12, 22]\n",
    "for i in list_array:\n",
    "    if type(i) ==int:\n",
    "        print(i)"
   ]
  },
  {
   "cell_type": "code",
   "execution_count": 44,
   "id": "6549f080",
   "metadata": {},
   "outputs": [
    {
     "name": "stdout",
     "output_type": "stream",
     "text": [
      "True\n",
      "False\n"
     ]
    }
   ],
   "source": [
    "list_array = [True, False, \"meka\", \"owen\", 19.5, 88, 4.12, 22]\n",
    "for i in list_array:\n",
    "    if type(i) ==bool:\n",
    "        print(i)"
   ]
  },
  {
   "cell_type": "code",
   "execution_count": 46,
   "id": "a9571b7d",
   "metadata": {},
   "outputs": [
    {
     "name": "stdout",
     "output_type": "stream",
     "text": [
      "19.5\n",
      "4.12\n"
     ]
    }
   ],
   "source": [
    "list_array = [True, False, \"meka\", \"owen\", 19.5, 88, 4.12, 22]\n",
    "for i in list_array:\n",
    "    if type(i) ==float:\n",
    "        print(i)"
   ]
  },
  {
   "cell_type": "code",
   "execution_count": null,
   "id": "6681a999",
   "metadata": {},
   "outputs": [],
   "source": [
    "a = [i for in range(1,39)]\n",
    "print(a)\n",
    "\n",
    "[1, 2, 3, 4, 5, 6, 7, 8, 9, 10, 11, 12, 13, 14, 15, 16, 17, 18, 19, 20, 21, 22, 23, 24, 25, 26, 27, 28, 29, 30, 31, 32, 33, 34, 35, 36,37, 38]"
   ]
  },
  {
   "cell_type": "code",
   "execution_count": 6,
   "id": "0d4bd3fc",
   "metadata": {},
   "outputs": [
    {
     "name": "stdout",
     "output_type": "stream",
     "text": [
      "2 4 6 8 10 12 14 16 18 20 22 24 26 28 30 32 34 36 38 "
     ]
    }
   ],
   "source": [
    "### to get even numbers\n",
    "\n",
    "a = [i for i in range(1, 39)]\n",
    "for num in a:\n",
    "    if num % 2 == 0:\n",
    "        print(num, end=\" \")"
   ]
  },
  {
   "cell_type": "code",
   "execution_count": 9,
   "id": "3c2643fe",
   "metadata": {},
   "outputs": [
    {
     "name": "stdout",
     "output_type": "stream",
     "text": [
      "1 3 5 7 9 11 13 15 17 19 21 23 25 27 29 31 33 35 37 "
     ]
    }
   ],
   "source": [
    "### to get odd numbers\n",
    "\n",
    "a =[i for i in range(1, 39)]\n",
    "for num in a:\n",
    "    if num % 2 != 0:\n",
    "        print(num, end=\" \")\n"
   ]
  },
  {
   "cell_type": "code",
   "execution_count": 10,
   "id": "dfde89b9",
   "metadata": {},
   "outputs": [
    {
     "name": "stdout",
     "output_type": "stream",
     "text": [
      "[2, 4, 6, 8, 10, 12, 14, 16, 18, 20, 22, 24, 26, 28, 30, 32, 34, 36, 38]\n"
     ]
    }
   ],
   "source": [
    "array = []\n",
    "for i in a:\n",
    "    if i%2==0:\n",
    "        array.append(i)\n",
    "print(array)"
   ]
  },
  {
   "cell_type": "code",
   "execution_count": 11,
   "id": "a27ac5c1",
   "metadata": {},
   "outputs": [
    {
     "name": "stdout",
     "output_type": "stream",
     "text": [
      "[2, 4, 6, 8, 10, 12, 14, 16, 18, 20, 22, 24, 26, 28, 30, 32, 34, 36, 38]\n"
     ]
    }
   ],
   "source": [
    "array = [i for i in a if i%2==0]\n",
    "print(array)"
   ]
  },
  {
   "cell_type": "code",
   "execution_count": 21,
   "id": "7121939b",
   "metadata": {},
   "outputs": [
    {
     "name": "stdout",
     "output_type": "stream",
     "text": [
      "[1, -2, 3, 0]\n"
     ]
    }
   ],
   "source": [
    "a = [\"james\", \"cadi\", \"benneth\", \"kola\"]\n",
    "b = [\"tobe\", \"mathew\", \"fila\", \"jack\"]\n",
    "diff_arr = []\n",
    "if len(a) == len(b):\n",
    "    for i in range(0, len(a)):\n",
    "        val = len(a[i]) - len(b[i])\n",
    "        diff_arr.append(val)\n",
    "    print(diff_arr)\n",
    "else:\n",
    "    print(\"index not same\")"
   ]
  },
  {
   "cell_type": "code",
   "execution_count": 20,
   "id": "20d635f6",
   "metadata": {},
   "outputs": [
    {
     "name": "stdout",
     "output_type": "stream",
     "text": [
      "['25cm', '80cm']\n"
     ]
    }
   ],
   "source": [
    "list_array = [\"10cm\", \"20cm\", \"30m\", \"15m\"]\n",
    "list_array2 = [\"40m\", \"20m\", \"25cm\", \"80cm\"]\n",
    "array_cm = []\n",
    "for i in list_array2:\n",
    "    split_i = []\n",
    "    for b in i:\n",
    "        split_i.append(b)\n",
    "    ###print(split_i)\n",
    "    a = \"\".join(split_i[2:])\n",
    "    ###print(a)\n",
    "    if a == \"cm\":\n",
    "        array_cm.append(i)\n",
    "print(array_cm)"
   ]
  },
  {
   "cell_type": "code",
   "execution_count": 26,
   "id": "5238195b",
   "metadata": {},
   "outputs": [
    {
     "name": "stdout",
     "output_type": "stream",
     "text": [
      "['25', '80']\n"
     ]
    }
   ],
   "source": [
    "lst_val2 = []\n",
    "for i in list_array2:\n",
    "    split_i = []\n",
    "    for b in i:\n",
    "        split_i.append(b)\n",
    "    if \"c\" in split_i:\n",
    "        a = \"\".join(split_i)[:-2]\n",
    "        lst_val2.append(a)\n",
    "print(lst_val2)"
   ]
  },
  {
   "cell_type": "code",
   "execution_count": 27,
   "id": "610f2e60",
   "metadata": {},
   "outputs": [],
   "source": [
    "# for i in range(0, 6):\n",
    "#     print(\"thank you!!!\")"
   ]
  },
  {
   "cell_type": "code",
   "execution_count": 28,
   "id": "f5f84360",
   "metadata": {},
   "outputs": [
    {
     "data": {
      "text/plain": [
       "1"
      ]
     },
     "execution_count": 28,
     "metadata": {},
     "output_type": "execute_result"
    }
   ],
   "source": [
    "a = [\"string\"]\n",
    "len(a)"
   ]
  },
  {
   "cell_type": "code",
   "execution_count": null,
   "id": "189f8a04",
   "metadata": {},
   "outputs": [],
   "source": []
  }
 ],
 "metadata": {
  "kernelspec": {
   "display_name": "Python 3 (ipykernel)",
   "language": "python",
   "name": "python3"
  },
  "language_info": {
   "codemirror_mode": {
    "name": "ipython",
    "version": 3
   },
   "file_extension": ".py",
   "mimetype": "text/x-python",
   "name": "python",
   "nbconvert_exporter": "python",
   "pygments_lexer": "ipython3",
   "version": "3.9.7"
  }
 },
 "nbformat": 4,
 "nbformat_minor": 5
}
